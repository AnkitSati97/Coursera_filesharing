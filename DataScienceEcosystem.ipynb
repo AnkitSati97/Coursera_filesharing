{
  "metadata": {
    "language_info": {
      "codemirror_mode": {
        "name": "python",
        "version": 3
      },
      "file_extension": ".py",
      "mimetype": "text/x-python",
      "name": "python",
      "nbconvert_exporter": "python",
      "pygments_lexer": "ipython3",
      "version": "3.8"
    },
    "kernelspec": {
      "name": "python",
      "display_name": "Python (Pyodide)",
      "language": "python"
    }
  },
  "nbformat_minor": 4,
  "nbformat": 4,
  "cells": [
    {
      "cell_type": "markdown",
      "source": "# Data Science Tools and Ecosystem",
      "metadata": {}
    },
    {
      "cell_type": "markdown",
      "source": "In this notebook, Data Science Tools and Ecosystem are summarized.",
      "metadata": {}
    },
    {
      "cell_type": "markdown",
      "source": "**Objectives:**\n\n- Explore popular languages for Data Science.\n- Understand key tools used in data science development environments.\n- Learn the libraries in each of the language to learn and navigate in the future\n- Gain insights into evaluating some vizualisations in R studio.\n- Explore examples related to data science concepts.",
      "metadata": {}
    },
    {
      "cell_type": "markdown",
      "source": "Some of the popular languages that Data Scientists use are:\n1. Python\n2. Julia\n3. R\n4. Scala\n5. SQL",
      "metadata": {}
    },
    {
      "cell_type": "markdown",
      "source": "Some of the commonly used libraries used by Data Scientists include:\n1. Pandas\n2. NumPy\n3. Seaborn\n4. SciKit-Learn\n5. MatPlotLib",
      "metadata": {}
    },
    {
      "cell_type": "markdown",
      "source": "| Data Science Tools      |\n|-------------------------|\n| Jupyter Notebook        |\n| RStudio                 |\n| VS Code with Python     |",
      "metadata": {}
    },
    {
      "cell_type": "markdown",
      "source": "### Below are a few examples of evaluating arithmetic expressions in Python.\n",
      "metadata": {}
    },
    {
      "cell_type": "code",
      "source": "x = 5\ny = 20\nz = x+y\nprint(z)",
      "metadata": {
        "trusted": true
      },
      "execution_count": 3,
      "outputs": [
        {
          "name": "stdout",
          "text": "25\n",
          "output_type": "stream"
        }
      ]
    },
    {
      "cell_type": "code",
      "source": "anna = 4\njack = 16 \njill = anna + 6\n\nprint(\"Age of Jill is\",jill )",
      "metadata": {
        "trusted": true
      },
      "execution_count": 5,
      "outputs": [
        {
          "name": "stdout",
          "text": "Age of Jill is 10\n",
          "output_type": "stream"
        }
      ]
    },
    {
      "cell_type": "code",
      "source": "z= (3*4)+5\nprint (z)",
      "metadata": {
        "trusted": true
      },
      "execution_count": 6,
      "outputs": [
        {
          "name": "stdout",
          "text": "17\n",
          "output_type": "stream"
        }
      ]
    },
    {
      "cell_type": "code",
      "source": "total_minutes = 200\nhours = total_minutes // 60  # Get the whole number of hours\nremaining_minutes = total_minutes % 60  # Get the remaining minutes\n\nprint(f\"{total_minutes} minutes is equal to {hours} hours and {remaining_minutes} minutes.\")\n",
      "metadata": {
        "trusted": true
      },
      "execution_count": 7,
      "outputs": [
        {
          "name": "stdout",
          "text": "200 minutes is equal to 3 hours and 20 minutes.\n",
          "output_type": "stream"
        }
      ]
    },
    {
      "cell_type": "markdown",
      "source": "## Author\n\nAnkit Sati",
      "metadata": {}
    }
  ]
}